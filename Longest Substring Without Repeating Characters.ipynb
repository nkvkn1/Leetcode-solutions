{
 "cells": [
  {
   "cell_type": "code",
   "execution_count": null,
   "id": "0daf7abd-1375-45af-a81d-0af0457ef3f0",
   "metadata": {},
   "outputs": [],
   "source": [
    "class Solution:\n",
    "    def lengthOfLongestSubstring(self, s: str) -> int:\n",
    "        CharSet = set()\n",
    "        l = 0                                       \n",
    "        res = 0                               \n",
    "\n",
    "        for r in range(len(s)):                    \n",
    "            while s[r] in CharSet:\n",
    "                CharSet.remove(s[l])          \n",
    "                l += 1                             \n",
    "            CharSet.add(s[r])                \n",
    "            res = max(res, r - l + 1)            \n",
    "        return res\n",
    "            "
   ]
  }
 ],
 "metadata": {
  "kernelspec": {
   "display_name": "Python 3 (ipykernel)",
   "language": "python",
   "name": "python3"
  },
  "language_info": {
   "codemirror_mode": {
    "name": "ipython",
    "version": 3
   },
   "file_extension": ".py",
   "mimetype": "text/x-python",
   "name": "python",
   "nbconvert_exporter": "python",
   "pygments_lexer": "ipython3",
   "version": "3.9.20"
  }
 },
 "nbformat": 4,
 "nbformat_minor": 5
}
